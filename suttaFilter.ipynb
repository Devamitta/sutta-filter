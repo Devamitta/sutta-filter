{
 "cells": [
  {
   "cell_type": "code",
   "execution_count": 1,
   "metadata": {},
   "outputs": [],
   "source": [
    "import pandas as pd\n",
    "import re\n",
    "\n",
    "df_nid = pd.read_csv(\"/home/deva/Documents/pali/nidh.csv\", sep=\"\\t\", dtype= str)\n",
    "df_nid.fillna(\"\", inplace=True)\n",
    "\n",
    "df_dps = pd.read_csv(\"/home/deva/Documents/pali/vicara-full.csv\", sep=\"\\t\", dtype= str)\n",
    "df_dps.fillna(\"\", inplace=True)\n",
    "\n",
    "# wich sutta searching\n",
    "sutta = \"SN 35.93\""
   ]
  },
  {
   "cell_type": "code",
   "execution_count": 2,
   "metadata": {},
   "outputs": [],
   "source": [
    "# filter all words from Source1 (choose strictly fit or contain)\n",
    "test1 = df_nid['Source1'] == sutta\n",
    "# test1 = df_nid['Source1'].str.contains(sutta)\n",
    "filter = test1\n",
    "df1 = df_nid.loc[filter]"
   ]
  },
  {
   "cell_type": "code",
   "execution_count": 3,
   "metadata": {},
   "outputs": [],
   "source": [
    "# filter all words from Source2 (choose strictly fit or contain)\n",
    "test2 = df_nid['Source 2'] == sutta\n",
    "# test2 = df_nid['Source 2'].str.contains(sutta)\n",
    "filter = test2\n",
    "df2 = df_nid.loc[filter]\n",
    "\n",
    "# if headword from df2 is in df1, then delete whole row from df2\n",
    "\n",
    "logix = df2['Pāli1'].isin(df1['Pāli1'])\n",
    "\n",
    "df2 = df2.drop(df2[logix].index)"
   ]
  },
  {
   "cell_type": "code",
   "execution_count": 4,
   "metadata": {},
   "outputs": [],
   "source": [
    "# move examples from 2 to 1\n",
    "df2[\"Source1\"] = df2[\"Source 2\"]\n",
    "df2[\"Sutta1\"] = df2[\"Sutta2\"]\n",
    "df2[\"Example1\"] = df2[\"Example 2\"]"
   ]
  },
  {
   "cell_type": "code",
   "execution_count": 5,
   "metadata": {},
   "outputs": [],
   "source": [
    "# combine two lists\n",
    "# df_combined = df1 + df2\n",
    "df_combined = df1.append(df2)\n",
    "\n",
    "# make source2 sutta2 example2 empty\n",
    "test0 = df_combined['Pāli1'] != \"\"\n",
    "filter = test0\n",
    "df_combined.loc[filter, ['Source 2']] = \"\"\n",
    "df_combined.loc[filter, ['Sutta2']] = \"\"\n",
    "df_combined.loc[filter, ['Example 2']] = \"\""
   ]
  },
  {
   "cell_type": "code",
   "execution_count": 6,
   "metadata": {},
   "outputs": [],
   "source": [
    "# if headword from df_combined is in df_dps, then delete whole row from df_combined\n",
    "\n",
    "logix = df_combined['Pāli1'].isin(df_dps['Pāli1'])\n",
    "\n",
    "df_final = df_combined.drop(df_combined[logix].index)\n",
    "\n",
    "# filter by alphabet\n",
    "df_final = df_final.sort_values(by=\"Pāli1\")"
   ]
  },
  {
   "cell_type": "code",
   "execution_count": 7,
   "metadata": {},
   "outputs": [],
   "source": [
    "# save csv\n",
    "df_final.to_csv(f\"/home/deva/Documents/pali/{sutta}_words.csv\", sep=\"\\t\", index=None)"
   ]
  }
 ],
 "metadata": {
  "interpreter": {
   "hash": "8a94588eda9d64d9e9a351ab8144e55b1fabf5113b54e67dd26a8c27df0381b3"
  },
  "kernelspec": {
   "display_name": "Python 3 (ipykernel)",
   "language": "python",
   "name": "python3"
  },
  "language_info": {
   "codemirror_mode": {
    "name": "ipython",
    "version": 3
   },
   "file_extension": ".py",
   "mimetype": "text/x-python",
   "name": "python",
   "nbconvert_exporter": "python",
   "pygments_lexer": "ipython3",
   "version": "3.9.9"
  }
 },
 "nbformat": 4,
 "nbformat_minor": 2
}
